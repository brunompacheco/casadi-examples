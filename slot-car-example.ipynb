{
 "cells": [
  {
   "cell_type": "code",
   "execution_count": 1,
   "metadata": {},
   "outputs": [],
   "source": [
    "import matplotlib.pyplot as plt\n",
    "\n",
    "from casadi import *"
   ]
  },
  {
   "cell_type": "code",
   "execution_count": 2,
   "metadata": {},
   "outputs": [],
   "source": [
    "N = 100\n",
    "\n",
    "opti = Opti()  # optimization problem"
   ]
  },
  {
   "cell_type": "code",
   "execution_count": 3,
   "metadata": {},
   "outputs": [],
   "source": [
    "X = opti.variable(2,N+1)  # state variables for all k\n",
    "\n",
    "p = X[0,:]  # position\n",
    "v = X[1,:]  # speed\n",
    "\n",
    "v_lim = lambda pos: 1 - sin(2 * pi * pos) / 2\n",
    "opti.subject_to(v <= v_lim(p))\n",
    "\n",
    "U = opti.variable(1,N)  # control trajectory\n",
    "opti.subject_to(0 <= U)\n",
    "opti.subject_to(U <= 1)\n",
    "\n",
    "T = opti.variable()  # final time\n",
    "opti.subject_to(T >= 0)\n",
    "\n",
    "# boundary\n",
    "opti.subject_to(p[0] == 0)\n",
    "opti.subject_to(v[0] == 0)\n",
    "opti.subject_to(p[N] == 1)"
   ]
  },
  {
   "cell_type": "code",
   "execution_count": 4,
   "metadata": {},
   "outputs": [],
   "source": [
    "opti.minimize(T)"
   ]
  },
  {
   "cell_type": "code",
   "execution_count": 5,
   "metadata": {},
   "outputs": [
    {
     "data": {
      "text/plain": [
       "Opti(Opti {\n",
       "  instance #0\n",
       "  #variables: 3 (nx = 303)\n",
       "  #parameters: 0 (np = 0)\n",
       "  #constraints: 7 (ng = 305)\n",
       "  CasADi solver needs updating.\n",
       "})"
      ]
     },
     "execution_count": 5,
     "metadata": {},
     "output_type": "execute_result"
    }
   ],
   "source": [
    "opti"
   ]
  },
  {
   "cell_type": "code",
   "execution_count": 6,
   "metadata": {},
   "outputs": [],
   "source": [
    "f = lambda x, u: vertcat(x[1], u - x[1])\n",
    "\n",
    "dt = T/N\n",
    "for k in range(N):\n",
    "    k1 = f(X[:,k],U[:,k])\n",
    "    k2 = f(X[:,k] + (dt / 2) * k1, U[:,k])\n",
    "    k3 = f(X[:,k] + (dt / 2) * k1, U[:,k])\n",
    "    k4 = f(X[:,k] + dt * k3, U[:,k])\n",
    "\n",
    "    x_next = X[:,k] + (dt / 6) * (k1 + 2*k2 + 2*k3 + k4)\n",
    "\n",
    "    opti.subject_to(X[:,k+1] == x_next)"
   ]
  },
  {
   "cell_type": "code",
   "execution_count": 7,
   "metadata": {
    "scrolled": false
   },
   "outputs": [
    {
     "name": "stdout",
     "output_type": "stream",
     "text": [
      "\n",
      "******************************************************************************\n",
      "This program contains Ipopt, a library for large-scale nonlinear optimization.\n",
      " Ipopt is released as open source code under the Eclipse Public License (EPL).\n",
      "         For more information visit https://github.com/coin-or/Ipopt\n",
      "******************************************************************************\n",
      "\n",
      "This is Ipopt version 3.14.5, running with linear solver MUMPS 5.2.1.\n",
      "\n",
      "Number of nonzeros in equality constraint Jacobian...:      903\n",
      "Number of nonzeros in inequality constraint Jacobian.:      403\n",
      "Number of nonzeros in Lagrangian Hessian.............:      302\n",
      "\n",
      "Total number of variables............................:      303\n",
      "                     variables with only lower bounds:        0\n",
      "                variables with lower and upper bounds:        0\n",
      "                     variables with only upper bounds:        0\n",
      "Total number of equality constraints.................:      203\n",
      "Total number of inequality constraints...............:      302\n",
      "        inequality constraints with only lower bounds:      101\n",
      "   inequality constraints with lower and upper bounds:        0\n",
      "        inequality constraints with only upper bounds:      201\n",
      "\n",
      "iter    objective    inf_pr   inf_du lg(mu)  ||d||  lg(rg) alpha_du alpha_pr  ls\n",
      "   0  1.0000000e+00 1.00e+00 2.88e-01  -1.0 0.00e+00    -  0.00e+00 0.00e+00   0\n",
      "   1  1.0178187e+00 9.90e-01 2.90e-01  -1.7 2.19e+00    -  1.01e-02 1.03e-02h  1\n",
      "   2  1.0188778e+00 9.89e-01 1.06e+02  -1.7 2.91e+00    -  2.54e-02 4.81e-04h  1\n",
      "   3  1.0319124e+00 9.84e-01 1.58e+03  -1.7 3.11e+00    -  4.80e-02 5.76e-03h  1\n",
      "   4  1.0330911e+00 9.83e-01 2.06e+05  -1.7 3.08e+00    -  5.55e-02 4.88e-04h  1\n",
      "   5  1.0342780e+00 9.83e-01 3.21e+06  -1.7 3.08e+00    -  7.44e-03 4.80e-04h  1\n",
      "   6  1.0343488e+00 9.83e-01 8.65e+08  -1.7 3.08e+00    -  7.22e-03 2.82e-05h  1\n",
      "   7r 1.0343488e+00 9.83e-01 1.00e+03  -0.0 0.00e+00    -  0.00e+00 3.45e-07R  2\n",
      "   8r 1.0754866e+00 8.62e-01 9.91e+02  -0.0 1.81e+01    -  9.68e-03 3.48e-02f  1\n",
      "   9  1.0762453e+00 8.62e-01 1.76e+02  -1.7 2.97e+00    -  3.96e-02 2.55e-04f  1\n",
      "iter    objective    inf_pr   inf_du lg(mu)  ||d||  lg(rg) alpha_du alpha_pr  ls\n",
      "  10  1.0768219e+00 8.62e-01 2.85e+04  -1.7 3.12e+00    -  2.83e-02 1.85e-04h  1\n",
      "  11  1.0774483e+00 8.61e-01 5.44e+06  -1.7 3.12e+00    -  3.83e-02 2.00e-04h  1\n",
      "  12r 1.0774483e+00 8.61e-01 1.00e+03  -0.1 0.00e+00    -  0.00e+00 3.17e-07R  4\n",
      "  13r 1.3177610e+00 7.90e-01 9.98e+02  -0.1 2.37e+01    -  2.39e-03 1.01e-02f  1\n",
      "  14r 1.7405205e+00 6.26e-01 9.69e+02  -0.1 2.11e+01    -  4.25e-02 2.01e-02f  1\n",
      "  15r 1.8351759e+00 6.70e-01 9.27e+02  -0.1 4.38e+00    -  5.71e-02 4.29e-02f  1\n",
      "  16r 1.9342135e+00 7.03e-01 8.94e+02  -0.1 3.53e+00    -  3.57e-02 3.55e-02f  1\n",
      "  17r 1.4936842e+00 8.15e-01 7.06e+02  -0.1 2.08e+00    -  2.05e-01 2.12e-01f  1\n",
      "  18r 2.8732883e+00 6.48e-01 1.50e+03  -0.1 2.41e+00    -  2.89e-01 5.73e-01f  1\n",
      "  19  2.8732839e-02 4.55e-01 3.96e+02  -1.7 2.01e+01    -  8.47e-04 2.98e-01F  1\n",
      "iter    objective    inf_pr   inf_du lg(mu)  ||d||  lg(rg) alpha_du alpha_pr  ls\n",
      "  20  4.1146155e+00 1.25e-01 2.45e+02  -1.7 5.63e+00    -  5.04e-03 7.26e-01f  1\n",
      "  21  3.5990243e+00 1.18e-01 2.31e+02  -1.7 9.05e+00    -  9.72e-03 5.69e-02h  1\n",
      "  22  3.1221707e+00 1.04e-01 2.07e+02  -1.7 4.15e+00    -  2.84e-02 1.15e-01h  1\n",
      "  23  2.5842758e+00 9.09e-02 1.83e+02  -1.7 4.24e+00    -  6.85e-02 1.27e-01h  1\n",
      "  24  1.9371246e+00 7.29e-02 1.51e+02  -1.7 3.27e+00    -  2.37e-01 1.98e-01h  1\n",
      "  25  1.8370081e+00 6.42e-02 1.33e+02  -1.7 2.85e+00    -  1.75e-01 1.20e-01h  1\n",
      "  26  1.8331687e+00 6.36e-02 1.32e+02  -1.7 1.53e+01    -  5.33e-02 9.67e-03h  1\n",
      "  27  1.8299547e+00 6.25e-02 1.30e+02  -1.7 1.20e+01    -  8.09e-02 1.65e-02h  1\n",
      "  28  1.8247270e+00 5.83e-02 1.21e+02  -1.7 6.09e+00    -  6.09e-02 6.81e-02h  1\n",
      "  29  1.8283673e+00 5.11e-02 1.07e+02  -1.7 4.61e+00    -  7.34e-02 1.23e-01h  1\n",
      "iter    objective    inf_pr   inf_du lg(mu)  ||d||  lg(rg) alpha_du alpha_pr  ls\n",
      "  30  1.8482908e+00 4.10e-02 8.63e+01  -1.7 2.99e+00    -  1.02e-01 1.97e-01h  1\n",
      "  31  1.8891384e+00 2.55e-02 5.49e+01  -1.7 1.63e+00    -  1.68e-01 3.78e-01h  1\n",
      "  32  1.9174358e+00 1.54e-02 3.34e+01  -1.7 6.32e-01    -  4.89e-01 3.97e-01h  1\n",
      "  33  1.9187291e+00 1.51e-02 3.33e+01  -1.7 9.10e-01    -  1.83e-01 1.89e-02h  1\n",
      "  34  1.9590688e+00 8.11e-03 2.18e+01  -1.7 8.26e-01    -  3.52e-01 4.62e-01f  1\n",
      "  35  2.0239724e+00 3.06e-04 4.12e+01  -1.7 4.74e-01    -  3.98e-01 1.00e+00f  1\n",
      "  36  2.0668101e+00 1.16e-04 2.47e+01  -1.7 2.64e-01    -  3.92e-01 1.00e+00f  1\n",
      "  37  2.1374034e+00 1.35e-04 6.14e+00  -1.7 1.81e-01    -  4.84e-01 1.00e+00f  1\n",
      "  38  2.2641840e+00 1.46e-04 2.73e+00  -1.7 1.27e-01    -  4.73e-01 1.00e+00f  1\n",
      "  39  2.4626219e+00 2.18e-04 2.21e-01  -1.7 1.98e-01    -  7.43e-01 1.00e+00f  1\n",
      "iter    objective    inf_pr   inf_du lg(mu)  ||d||  lg(rg) alpha_du alpha_pr  ls\n",
      "  40  2.6880380e+00 2.15e-04 4.39e-02  -1.7 2.25e-01    -  9.66e-01 1.00e+00f  1\n",
      "  41  2.3738011e+00 4.70e-04 1.30e-02  -2.5 3.14e-01    -  9.02e-01 1.00e+00f  1\n",
      "  42  2.0148079e+00 5.83e-04 3.73e-02  -3.8 3.59e-01    -  8.20e-01 1.00e+00f  1\n",
      "  43  1.9672107e+00 2.88e-04 4.36e-02  -3.8 2.52e-01    -  9.26e-01 5.31e-01h  1\n",
      "  44  1.9164721e+00 2.98e-04 1.37e-02  -3.8 5.72e-01    -  9.03e-01 1.00e+00h  1\n",
      "  45  1.9194998e+00 7.18e-06 2.71e-03  -3.8 2.39e-01    -  1.00e+00 1.00e+00h  1\n",
      "  46  1.9193752e+00 2.58e-08 3.13e-05  -3.8 2.10e-02    -  1.00e+00 1.00e+00h  1\n",
      "  47  1.9099139e+00 1.08e-05 3.29e-02  -5.7 1.68e-01    -  8.00e-01 6.61e-01f  1\n",
      "  48  1.9057523e+00 1.01e-05 9.12e-03  -5.7 2.58e-01    -  8.31e-01 8.11e-01h  1\n",
      "  49  1.9048105e+00 7.97e-07 7.32e-04  -5.7 5.77e-02    -  1.00e+00 9.73e-01f  1\n",
      "iter    objective    inf_pr   inf_du lg(mu)  ||d||  lg(rg) alpha_du alpha_pr  ls\n",
      "  50  1.9047915e+00 6.39e-10 8.64e-08  -5.7 3.37e-03    -  1.00e+00 1.00e+00f  1\n",
      "  51  1.9046115e+00 1.38e-08 2.36e-05  -8.6 8.26e-03    -  9.70e-01 9.75e-01f  1\n",
      "  52  1.9046070e+00 1.16e-11 2.03e-10  -8.6 2.72e-04    -  1.00e+00 1.00e+00f  1\n",
      "\n",
      "Number of Iterations....: 52\n",
      "\n",
      "                                   (scaled)                 (unscaled)\n",
      "Objective...............:   1.9046070100390511e+00    1.9046070100390511e+00\n",
      "Dual infeasibility......:   2.0321799246526002e-10    2.0321799246526002e-10\n",
      "Constraint violation....:   1.1631584584392840e-11    1.1631584584392840e-11\n",
      "Variable bound violation:   0.0000000000000000e+00    0.0000000000000000e+00\n",
      "Complementarity.........:   2.7109335460155415e-09    2.7109335460155415e-09\n",
      "Overall NLP error.......:   2.7109335460155415e-09    2.7109335460155415e-09\n",
      "\n",
      "\n",
      "Number of objective function evaluations             = 61\n",
      "Number of objective gradient evaluations             = 48\n",
      "Number of equality constraint evaluations            = 61\n",
      "Number of inequality constraint evaluations          = 61\n",
      "Number of equality constraint Jacobian evaluations   = 55\n",
      "Number of inequality constraint Jacobian evaluations = 55\n",
      "Number of Lagrangian Hessian evaluations             = 52\n",
      "Total seconds in IPOPT                               = 0.291\n",
      "\n",
      "EXIT: Optimal Solution Found.\n",
      "      solver  :   t_proc      (avg)   t_wall      (avg)    n_eval\n",
      "       nlp_f  | 183.00us (  3.00us) 166.41us (  2.73us)        61\n",
      "       nlp_g  |  12.47ms (204.43us)  12.56ms (205.82us)        61\n",
      "  nlp_grad_f  | 200.00us (  4.08us) 186.03us (  3.80us)        49\n",
      "  nlp_hess_l  |  42.28ms (845.52us)  41.96ms (839.28us)        50\n",
      "   nlp_jac_g  |  39.61ms (707.32us)  39.67ms (708.39us)        56\n",
      "       total  | 295.03ms (295.03ms) 291.10ms (291.10ms)         1\n"
     ]
    }
   ],
   "source": [
    "# initial guess\n",
    "opti.set_initial(v, 1)\n",
    "opti.set_initial(T, 1)\n",
    "\n",
    "opti.solver('ipopt')  # set numerical backend\n",
    "sol = opti.solve()  # actual solve"
   ]
  },
  {
   "cell_type": "code",
   "execution_count": 8,
   "metadata": {},
   "outputs": [
    {
     "data": {
      "image/png": "[encoded data removed]",
      "text/plain": [
       "<Figure size 432x288 with 1 Axes>"
      ]
     },
     "metadata": {
      "needs_background": "light"
     },
     "output_type": "display_data"
    }
   ],
   "source": [
    "plt.plot(sol.value(p), label='p')\n",
    "plt.plot(sol.value(v), label='v')\n",
    "plt.plot(v_lim(sol.value(p)), '--', label='v_lim')\n",
    "\n",
    "plt.legend()\n",
    "plt.show()"
   ]
  }
 ],
 "metadata": {
  "kernelspec": {
   "display_name": "Python [conda env:casadi]",
   "language": "python",
   "name": "conda-env-casadi-py"
  },
  "language_info": {
   "codemirror_mode": {
    "name": "ipython",
    "version": 3
   },
   "file_extension": ".py",
   "mimetype": "text/x-python",
   "name": "python",
   "nbconvert_exporter": "python",
   "pygments_lexer": "ipython3",
   "version": "3.10.4"
  }
 },
 "nbformat": 4,
 "nbformat_minor": 4
}
